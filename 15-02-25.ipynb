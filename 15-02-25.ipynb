{
 "cells": [
  {
   "cell_type": "code",
   "execution_count": 1,
   "id": "32cb7a3d-e5a2-45a6-bf65-3a54a5de20d3",
   "metadata": {},
   "outputs": [
    {
     "name": "stdout",
     "output_type": "stream",
     "text": [
      "Requirement already satisfied: mlxtend in c:\\users\\varsh\\anaconda3\\lib\\site-packages (0.23.4)\n",
      "Requirement already satisfied: scipy>=1.2.1 in c:\\users\\varsh\\anaconda3\\lib\\site-packages (from mlxtend) (1.13.1)\n",
      "Requirement already satisfied: numpy>=1.16.2 in c:\\users\\varsh\\anaconda3\\lib\\site-packages (from mlxtend) (1.26.4)\n",
      "Requirement already satisfied: pandas>=0.24.2 in c:\\users\\varsh\\anaconda3\\lib\\site-packages (from mlxtend) (2.2.2)\n",
      "Requirement already satisfied: scikit-learn>=1.3.1 in c:\\users\\varsh\\anaconda3\\lib\\site-packages (from mlxtend) (1.5.1)\n",
      "Requirement already satisfied: matplotlib>=3.0.0 in c:\\users\\varsh\\anaconda3\\lib\\site-packages (from mlxtend) (3.9.2)\n",
      "Requirement already satisfied: joblib>=0.13.2 in c:\\users\\varsh\\anaconda3\\lib\\site-packages (from mlxtend) (1.4.2)\n",
      "Requirement already satisfied: contourpy>=1.0.1 in c:\\users\\varsh\\anaconda3\\lib\\site-packages (from matplotlib>=3.0.0->mlxtend) (1.2.0)\n",
      "Requirement already satisfied: cycler>=0.10 in c:\\users\\varsh\\anaconda3\\lib\\site-packages (from matplotlib>=3.0.0->mlxtend) (0.11.0)\n",
      "Requirement already satisfied: fonttools>=4.22.0 in c:\\users\\varsh\\anaconda3\\lib\\site-packages (from matplotlib>=3.0.0->mlxtend) (4.51.0)\n",
      "Requirement already satisfied: kiwisolver>=1.3.1 in c:\\users\\varsh\\anaconda3\\lib\\site-packages (from matplotlib>=3.0.0->mlxtend) (1.4.4)\n",
      "Requirement already satisfied: packaging>=20.0 in c:\\users\\varsh\\anaconda3\\lib\\site-packages (from matplotlib>=3.0.0->mlxtend) (24.1)\n",
      "Requirement already satisfied: pillow>=8 in c:\\users\\varsh\\anaconda3\\lib\\site-packages (from matplotlib>=3.0.0->mlxtend) (10.4.0)\n",
      "Requirement already satisfied: pyparsing>=2.3.1 in c:\\users\\varsh\\anaconda3\\lib\\site-packages (from matplotlib>=3.0.0->mlxtend) (3.1.2)\n",
      "Requirement already satisfied: python-dateutil>=2.7 in c:\\users\\varsh\\anaconda3\\lib\\site-packages (from matplotlib>=3.0.0->mlxtend) (2.9.0.post0)\n",
      "Requirement already satisfied: pytz>=2020.1 in c:\\users\\varsh\\anaconda3\\lib\\site-packages (from pandas>=0.24.2->mlxtend) (2024.1)\n",
      "Requirement already satisfied: tzdata>=2022.7 in c:\\users\\varsh\\anaconda3\\lib\\site-packages (from pandas>=0.24.2->mlxtend) (2023.3)\n",
      "Requirement already satisfied: threadpoolctl>=3.1.0 in c:\\users\\varsh\\anaconda3\\lib\\site-packages (from scikit-learn>=1.3.1->mlxtend) (3.5.0)\n",
      "Requirement already satisfied: six>=1.5 in c:\\users\\varsh\\anaconda3\\lib\\site-packages (from python-dateutil>=2.7->matplotlib>=3.0.0->mlxtend) (1.16.0)\n"
     ]
    }
   ],
   "source": [
    "!pip install mlxtend"
   ]
  },
  {
   "cell_type": "code",
   "execution_count": 2,
   "id": "2cac4448-aa9b-49ea-a5a6-a69971cb6bc4",
   "metadata": {},
   "outputs": [],
   "source": [
    "import numpy as np\n",
    "import pandas as pd\n",
    "from mlxtend.frequent_patterns import apriori\n",
    "from mlxtend.frequent_patterns import association_rules\n",
    "import warnings\n",
    "warnings.filterwarnings('ignore')"
   ]
  },
  {
   "cell_type": "code",
   "execution_count": 3,
   "id": "e67f799a-6b3b-4bdf-89fa-ae8de6a07539",
   "metadata": {},
   "outputs": [],
   "source": [
    "data=[\n",
    "    ['milk','bread','butter','jam'],\n",
    "    ['milk','cola','jam'],\n",
    "    ['bread','jam','butter'],\n",
    "    ['milk','diapers','bread','jam'],\n",
    "    ['milk','cola','beer'],\n",
    "    ['milk','bread','butter'],\n",
    "    ['bread','butter','jam','beer']\n",
    "]"
   ]
  },
  {
   "cell_type": "code",
   "execution_count": 4,
   "id": "772949f3-1977-44d7-98f2-0b9f9935ebaf",
   "metadata": {},
   "outputs": [],
   "source": [
    "from mlxtend.preprocessing import TransactionEncoder"
   ]
  },
  {
   "cell_type": "code",
   "execution_count": 5,
   "id": "fce20edd-f512-48be-88a5-ac0a4efd54fd",
   "metadata": {},
   "outputs": [],
   "source": [
    "te=TransactionEncoder()\n",
    "df=te.fit(data).transform(data)"
   ]
  },
  {
   "cell_type": "code",
   "execution_count": 6,
   "id": "cd0bc0be-5c07-4500-9f67-aac40cf64b74",
   "metadata": {},
   "outputs": [
    {
     "data": {
      "text/plain": [
       "array([[False,  True,  True, False, False,  True,  True],\n",
       "       [False, False, False,  True, False,  True,  True],\n",
       "       [False,  True,  True, False, False,  True, False],\n",
       "       [False,  True, False, False,  True,  True,  True],\n",
       "       [ True, False, False,  True, False, False,  True],\n",
       "       [False,  True,  True, False, False, False,  True],\n",
       "       [ True,  True,  True, False, False,  True, False]])"
      ]
     },
     "execution_count": 6,
     "metadata": {},
     "output_type": "execute_result"
    }
   ],
   "source": [
    "df"
   ]
  },
  {
   "cell_type": "code",
   "execution_count": 7,
   "id": "f46de3ee-57b8-48d9-a74b-e94333783c89",
   "metadata": {},
   "outputs": [
    {
     "data": {
      "text/html": [
       "<div>\n",
       "<style scoped>\n",
       "    .dataframe tbody tr th:only-of-type {\n",
       "        vertical-align: middle;\n",
       "    }\n",
       "\n",
       "    .dataframe tbody tr th {\n",
       "        vertical-align: top;\n",
       "    }\n",
       "\n",
       "    .dataframe thead th {\n",
       "        text-align: right;\n",
       "    }\n",
       "</style>\n",
       "<table border=\"1\" class=\"dataframe\">\n",
       "  <thead>\n",
       "    <tr style=\"text-align: right;\">\n",
       "      <th></th>\n",
       "      <th>Class</th>\n",
       "      <th>Gender</th>\n",
       "      <th>Age</th>\n",
       "      <th>Survived</th>\n",
       "    </tr>\n",
       "  </thead>\n",
       "  <tbody>\n",
       "    <tr>\n",
       "      <th>0</th>\n",
       "      <td>3rd</td>\n",
       "      <td>Male</td>\n",
       "      <td>Child</td>\n",
       "      <td>No</td>\n",
       "    </tr>\n",
       "    <tr>\n",
       "      <th>1</th>\n",
       "      <td>3rd</td>\n",
       "      <td>Male</td>\n",
       "      <td>Child</td>\n",
       "      <td>No</td>\n",
       "    </tr>\n",
       "    <tr>\n",
       "      <th>2</th>\n",
       "      <td>3rd</td>\n",
       "      <td>Male</td>\n",
       "      <td>Child</td>\n",
       "      <td>No</td>\n",
       "    </tr>\n",
       "    <tr>\n",
       "      <th>3</th>\n",
       "      <td>3rd</td>\n",
       "      <td>Male</td>\n",
       "      <td>Child</td>\n",
       "      <td>No</td>\n",
       "    </tr>\n",
       "    <tr>\n",
       "      <th>4</th>\n",
       "      <td>3rd</td>\n",
       "      <td>Male</td>\n",
       "      <td>Child</td>\n",
       "      <td>No</td>\n",
       "    </tr>\n",
       "  </tbody>\n",
       "</table>\n",
       "</div>"
      ],
      "text/plain": [
       "  Class Gender    Age Survived\n",
       "0   3rd   Male  Child       No\n",
       "1   3rd   Male  Child       No\n",
       "2   3rd   Male  Child       No\n",
       "3   3rd   Male  Child       No\n",
       "4   3rd   Male  Child       No"
      ]
     },
     "execution_count": 7,
     "metadata": {},
     "output_type": "execute_result"
    }
   ],
   "source": [
    "titanic=pd.read_csv(r\"C:\\Users\\varsh\\OneDrive\\Desktop\\Titanic.csv\")\n",
    "titanic.head()"
   ]
  },
  {
   "cell_type": "code",
   "execution_count": 8,
   "id": "5ad5ffb7-8802-4504-bb15-f52ee77bb839",
   "metadata": {},
   "outputs": [
    {
     "data": {
      "text/plain": [
       "array(['3rd', '1st', '2nd', 'Crew'], dtype=object)"
      ]
     },
     "execution_count": 8,
     "metadata": {},
     "output_type": "execute_result"
    }
   ],
   "source": [
    "titanic['Class'].unique()"
   ]
  },
  {
   "cell_type": "code",
   "execution_count": 9,
   "id": "f7269ae7-d0e6-428f-aba0-2ffe524619f4",
   "metadata": {},
   "outputs": [
    {
     "data": {
      "text/plain": [
       "Class\n",
       "Crew    885\n",
       "3rd     706\n",
       "1st     325\n",
       "2nd     285\n",
       "Name: count, dtype: int64"
      ]
     },
     "execution_count": 9,
     "metadata": {},
     "output_type": "execute_result"
    }
   ],
   "source": [
    "titanic['Class'].value_counts()"
   ]
  },
  {
   "cell_type": "code",
   "execution_count": 10,
   "id": "17edae41-39ba-4c1e-a063-214795327aa1",
   "metadata": {},
   "outputs": [
    {
     "data": {
      "text/plain": [
       "Gender\n",
       "Male      1731\n",
       "Female     470\n",
       "Name: count, dtype: int64"
      ]
     },
     "execution_count": 10,
     "metadata": {},
     "output_type": "execute_result"
    }
   ],
   "source": [
    "titanic['Gender'].value_counts()"
   ]
  },
  {
   "cell_type": "code",
   "execution_count": 11,
   "id": "4c59740d-7fbf-4467-ab54-aecd8089ae95",
   "metadata": {},
   "outputs": [
    {
     "data": {
      "text/plain": [
       "array(['Child', 'Adult'], dtype=object)"
      ]
     },
     "execution_count": 11,
     "metadata": {},
     "output_type": "execute_result"
    }
   ],
   "source": [
    "titanic['Age'].unique()"
   ]
  },
  {
   "cell_type": "code",
   "execution_count": 12,
   "id": "38a3adad-a48d-4c0d-930c-974bcc6e85a8",
   "metadata": {},
   "outputs": [
    {
     "data": {
      "text/plain": [
       "Age\n",
       "Adult    2092\n",
       "Child     109\n",
       "Name: count, dtype: int64"
      ]
     },
     "execution_count": 12,
     "metadata": {},
     "output_type": "execute_result"
    }
   ],
   "source": [
    "titanic['Age'].value_counts()"
   ]
  },
  {
   "cell_type": "code",
   "execution_count": 13,
   "id": "aac84bed-ea86-4ee1-843f-1e2ba6bdfc53",
   "metadata": {},
   "outputs": [
    {
     "data": {
      "text/plain": [
       "array(['No', 'Yes'], dtype=object)"
      ]
     },
     "execution_count": 13,
     "metadata": {},
     "output_type": "execute_result"
    }
   ],
   "source": [
    "titanic['Survived'].unique()"
   ]
  },
  {
   "cell_type": "code",
   "execution_count": 44,
   "id": "885bcd46-2896-4f97-b39c-9fe4d2a562cc",
   "metadata": {},
   "outputs": [
    {
     "data": {
      "text/plain": [
       "Survived\n",
       "No     1490\n",
       "Yes     711\n",
       "Name: count, dtype: int64"
      ]
     },
     "execution_count": 44,
     "metadata": {},
     "output_type": "execute_result"
    }
   ],
   "source": [
    "titanic['Survived'].value_counts()"
   ]
  },
  {
   "cell_type": "markdown",
   "id": "ae018ded-466e-4e81-a7c0-38abbab566af",
   "metadata": {},
   "source": [
    "# Pre Processing"
   ]
  },
  {
   "cell_type": "code",
   "execution_count": 16,
   "id": "df4a3860-787f-4b1d-9513-71d2a3a227b7",
   "metadata": {},
   "outputs": [
    {
     "data": {
      "text/html": [
       "<div>\n",
       "<style scoped>\n",
       "    .dataframe tbody tr th:only-of-type {\n",
       "        vertical-align: middle;\n",
       "    }\n",
       "\n",
       "    .dataframe tbody tr th {\n",
       "        vertical-align: top;\n",
       "    }\n",
       "\n",
       "    .dataframe thead th {\n",
       "        text-align: right;\n",
       "    }\n",
       "</style>\n",
       "<table border=\"1\" class=\"dataframe\">\n",
       "  <thead>\n",
       "    <tr style=\"text-align: right;\">\n",
       "      <th></th>\n",
       "      <th>Class_1st</th>\n",
       "      <th>Class_2nd</th>\n",
       "      <th>Class_3rd</th>\n",
       "      <th>Class_Crew</th>\n",
       "      <th>Gender_Female</th>\n",
       "      <th>Gender_Male</th>\n",
       "      <th>Age_Adult</th>\n",
       "      <th>Age_Child</th>\n",
       "      <th>Survived_No</th>\n",
       "      <th>Survived_Yes</th>\n",
       "    </tr>\n",
       "  </thead>\n",
       "  <tbody>\n",
       "    <tr>\n",
       "      <th>0</th>\n",
       "      <td>0</td>\n",
       "      <td>0</td>\n",
       "      <td>1</td>\n",
       "      <td>0</td>\n",
       "      <td>0</td>\n",
       "      <td>1</td>\n",
       "      <td>0</td>\n",
       "      <td>1</td>\n",
       "      <td>1</td>\n",
       "      <td>0</td>\n",
       "    </tr>\n",
       "    <tr>\n",
       "      <th>1</th>\n",
       "      <td>0</td>\n",
       "      <td>0</td>\n",
       "      <td>1</td>\n",
       "      <td>0</td>\n",
       "      <td>0</td>\n",
       "      <td>1</td>\n",
       "      <td>0</td>\n",
       "      <td>1</td>\n",
       "      <td>1</td>\n",
       "      <td>0</td>\n",
       "    </tr>\n",
       "    <tr>\n",
       "      <th>2</th>\n",
       "      <td>0</td>\n",
       "      <td>0</td>\n",
       "      <td>1</td>\n",
       "      <td>0</td>\n",
       "      <td>0</td>\n",
       "      <td>1</td>\n",
       "      <td>0</td>\n",
       "      <td>1</td>\n",
       "      <td>1</td>\n",
       "      <td>0</td>\n",
       "    </tr>\n",
       "    <tr>\n",
       "      <th>3</th>\n",
       "      <td>0</td>\n",
       "      <td>0</td>\n",
       "      <td>1</td>\n",
       "      <td>0</td>\n",
       "      <td>0</td>\n",
       "      <td>1</td>\n",
       "      <td>0</td>\n",
       "      <td>1</td>\n",
       "      <td>1</td>\n",
       "      <td>0</td>\n",
       "    </tr>\n",
       "    <tr>\n",
       "      <th>4</th>\n",
       "      <td>0</td>\n",
       "      <td>0</td>\n",
       "      <td>1</td>\n",
       "      <td>0</td>\n",
       "      <td>0</td>\n",
       "      <td>1</td>\n",
       "      <td>0</td>\n",
       "      <td>1</td>\n",
       "      <td>1</td>\n",
       "      <td>0</td>\n",
       "    </tr>\n",
       "  </tbody>\n",
       "</table>\n",
       "</div>"
      ],
      "text/plain": [
       "   Class_1st  Class_2nd  Class_3rd  Class_Crew  Gender_Female  Gender_Male  \\\n",
       "0          0          0          1           0              0            1   \n",
       "1          0          0          1           0              0            1   \n",
       "2          0          0          1           0              0            1   \n",
       "3          0          0          1           0              0            1   \n",
       "4          0          0          1           0              0            1   \n",
       "\n",
       "   Age_Adult  Age_Child  Survived_No  Survived_Yes  \n",
       "0          0          1            1             0  \n",
       "1          0          1            1             0  \n",
       "2          0          1            1             0  \n",
       "3          0          1            1             0  \n",
       "4          0          1            1             0  "
      ]
     },
     "execution_count": 16,
     "metadata": {},
     "output_type": "execute_result"
    }
   ],
   "source": [
    "df=pd.get_dummies(titanic,dtype='int')\n",
    "df.head()"
   ]
  },
  {
   "cell_type": "code",
   "execution_count": 50,
   "id": "74a7cde2-7354-491d-8f81-89f7a232b361",
   "metadata": {},
   "outputs": [
    {
     "data": {
      "text/plain": [
       "2201"
      ]
     },
     "execution_count": 50,
     "metadata": {},
     "output_type": "execute_result"
    }
   ],
   "source": [
    "titanic.shape[0]"
   ]
  },
  {
   "cell_type": "code",
   "execution_count": 48,
   "id": "4a95967b-8482-4f97-b35e-e768f06ed735",
   "metadata": {},
   "outputs": [
    {
     "data": {
      "text/html": [
       "<div>\n",
       "<style scoped>\n",
       "    .dataframe tbody tr th:only-of-type {\n",
       "        vertical-align: middle;\n",
       "    }\n",
       "\n",
       "    .dataframe tbody tr th {\n",
       "        vertical-align: top;\n",
       "    }\n",
       "\n",
       "    .dataframe thead th {\n",
       "        text-align: right;\n",
       "    }\n",
       "</style>\n",
       "<table border=\"1\" class=\"dataframe\">\n",
       "  <thead>\n",
       "    <tr style=\"text-align: right;\">\n",
       "      <th></th>\n",
       "      <th>support</th>\n",
       "      <th>itemsets</th>\n",
       "    </tr>\n",
       "  </thead>\n",
       "  <tbody>\n",
       "    <tr>\n",
       "      <th>0</th>\n",
       "      <td>0.147660</td>\n",
       "      <td>(Class_1st)</td>\n",
       "    </tr>\n",
       "    <tr>\n",
       "      <th>1</th>\n",
       "      <td>0.129487</td>\n",
       "      <td>(Class_2nd)</td>\n",
       "    </tr>\n",
       "    <tr>\n",
       "      <th>2</th>\n",
       "      <td>0.320763</td>\n",
       "      <td>(Class_3rd)</td>\n",
       "    </tr>\n",
       "    <tr>\n",
       "      <th>3</th>\n",
       "      <td>0.402090</td>\n",
       "      <td>(Class_Crew)</td>\n",
       "    </tr>\n",
       "    <tr>\n",
       "      <th>4</th>\n",
       "      <td>0.213539</td>\n",
       "      <td>(Gender_Female)</td>\n",
       "    </tr>\n",
       "    <tr>\n",
       "      <th>5</th>\n",
       "      <td>0.786461</td>\n",
       "      <td>(Gender_Male)</td>\n",
       "    </tr>\n",
       "    <tr>\n",
       "      <th>6</th>\n",
       "      <td>0.950477</td>\n",
       "      <td>(Age_Adult)</td>\n",
       "    </tr>\n",
       "    <tr>\n",
       "      <th>7</th>\n",
       "      <td>0.676965</td>\n",
       "      <td>(Survived_No)</td>\n",
       "    </tr>\n",
       "    <tr>\n",
       "      <th>8</th>\n",
       "      <td>0.323035</td>\n",
       "      <td>(Survived_Yes)</td>\n",
       "    </tr>\n",
       "    <tr>\n",
       "      <th>9</th>\n",
       "      <td>0.144934</td>\n",
       "      <td>(Class_1st, Age_Adult)</td>\n",
       "    </tr>\n",
       "    <tr>\n",
       "      <th>10</th>\n",
       "      <td>0.118582</td>\n",
       "      <td>(Age_Adult, Class_2nd)</td>\n",
       "    </tr>\n",
       "    <tr>\n",
       "      <th>11</th>\n",
       "      <td>0.231713</td>\n",
       "      <td>(Class_3rd, Gender_Male)</td>\n",
       "    </tr>\n",
       "    <tr>\n",
       "      <th>12</th>\n",
       "      <td>0.284871</td>\n",
       "      <td>(Class_3rd, Age_Adult)</td>\n",
       "    </tr>\n",
       "    <tr>\n",
       "      <th>13</th>\n",
       "      <td>0.239891</td>\n",
       "      <td>(Survived_No, Class_3rd)</td>\n",
       "    </tr>\n",
       "    <tr>\n",
       "      <th>14</th>\n",
       "      <td>0.391640</td>\n",
       "      <td>(Class_Crew, Gender_Male)</td>\n",
       "    </tr>\n",
       "    <tr>\n",
       "      <th>15</th>\n",
       "      <td>0.402090</td>\n",
       "      <td>(Class_Crew, Age_Adult)</td>\n",
       "    </tr>\n",
       "    <tr>\n",
       "      <th>16</th>\n",
       "      <td>0.305770</td>\n",
       "      <td>(Survived_No, Class_Crew)</td>\n",
       "    </tr>\n",
       "    <tr>\n",
       "      <th>17</th>\n",
       "      <td>0.193094</td>\n",
       "      <td>(Gender_Female, Age_Adult)</td>\n",
       "    </tr>\n",
       "    <tr>\n",
       "      <th>18</th>\n",
       "      <td>0.156293</td>\n",
       "      <td>(Gender_Female, Survived_Yes)</td>\n",
       "    </tr>\n",
       "    <tr>\n",
       "      <th>19</th>\n",
       "      <td>0.757383</td>\n",
       "      <td>(Gender_Male, Age_Adult)</td>\n",
       "    </tr>\n",
       "    <tr>\n",
       "      <th>20</th>\n",
       "      <td>0.619718</td>\n",
       "      <td>(Survived_No, Gender_Male)</td>\n",
       "    </tr>\n",
       "    <tr>\n",
       "      <th>21</th>\n",
       "      <td>0.166742</td>\n",
       "      <td>(Survived_Yes, Gender_Male)</td>\n",
       "    </tr>\n",
       "    <tr>\n",
       "      <th>22</th>\n",
       "      <td>0.653339</td>\n",
       "      <td>(Survived_No, Age_Adult)</td>\n",
       "    </tr>\n",
       "    <tr>\n",
       "      <th>23</th>\n",
       "      <td>0.297138</td>\n",
       "      <td>(Survived_Yes, Age_Adult)</td>\n",
       "    </tr>\n",
       "    <tr>\n",
       "      <th>24</th>\n",
       "      <td>0.209905</td>\n",
       "      <td>(Class_3rd, Gender_Male, Age_Adult)</td>\n",
       "    </tr>\n",
       "    <tr>\n",
       "      <th>25</th>\n",
       "      <td>0.191731</td>\n",
       "      <td>(Survived_No, Gender_Male, Class_3rd)</td>\n",
       "    </tr>\n",
       "    <tr>\n",
       "      <th>26</th>\n",
       "      <td>0.216265</td>\n",
       "      <td>(Survived_No, Age_Adult, Class_3rd)</td>\n",
       "    </tr>\n",
       "    <tr>\n",
       "      <th>27</th>\n",
       "      <td>0.391640</td>\n",
       "      <td>(Class_Crew, Gender_Male, Age_Adult)</td>\n",
       "    </tr>\n",
       "    <tr>\n",
       "      <th>28</th>\n",
       "      <td>0.304407</td>\n",
       "      <td>(Survived_No, Gender_Male, Class_Crew)</td>\n",
       "    </tr>\n",
       "    <tr>\n",
       "      <th>29</th>\n",
       "      <td>0.305770</td>\n",
       "      <td>(Survived_No, Age_Adult, Class_Crew)</td>\n",
       "    </tr>\n",
       "    <tr>\n",
       "      <th>30</th>\n",
       "      <td>0.143571</td>\n",
       "      <td>(Gender_Female, Survived_Yes, Age_Adult)</td>\n",
       "    </tr>\n",
       "    <tr>\n",
       "      <th>31</th>\n",
       "      <td>0.603816</td>\n",
       "      <td>(Survived_No, Gender_Male, Age_Adult)</td>\n",
       "    </tr>\n",
       "    <tr>\n",
       "      <th>32</th>\n",
       "      <td>0.153567</td>\n",
       "      <td>(Survived_Yes, Age_Adult, Gender_Male)</td>\n",
       "    </tr>\n",
       "    <tr>\n",
       "      <th>33</th>\n",
       "      <td>0.175829</td>\n",
       "      <td>(Survived_No, Gender_Male, Age_Adult, Class_3rd)</td>\n",
       "    </tr>\n",
       "    <tr>\n",
       "      <th>34</th>\n",
       "      <td>0.304407</td>\n",
       "      <td>(Survived_No, Gender_Male, Age_Adult, Class_Crew)</td>\n",
       "    </tr>\n",
       "  </tbody>\n",
       "</table>\n",
       "</div>"
      ],
      "text/plain": [
       "     support                                           itemsets\n",
       "0   0.147660                                        (Class_1st)\n",
       "1   0.129487                                        (Class_2nd)\n",
       "2   0.320763                                        (Class_3rd)\n",
       "3   0.402090                                       (Class_Crew)\n",
       "4   0.213539                                    (Gender_Female)\n",
       "5   0.786461                                      (Gender_Male)\n",
       "6   0.950477                                        (Age_Adult)\n",
       "7   0.676965                                      (Survived_No)\n",
       "8   0.323035                                     (Survived_Yes)\n",
       "9   0.144934                             (Class_1st, Age_Adult)\n",
       "10  0.118582                             (Age_Adult, Class_2nd)\n",
       "11  0.231713                           (Class_3rd, Gender_Male)\n",
       "12  0.284871                             (Class_3rd, Age_Adult)\n",
       "13  0.239891                           (Survived_No, Class_3rd)\n",
       "14  0.391640                          (Class_Crew, Gender_Male)\n",
       "15  0.402090                            (Class_Crew, Age_Adult)\n",
       "16  0.305770                          (Survived_No, Class_Crew)\n",
       "17  0.193094                         (Gender_Female, Age_Adult)\n",
       "18  0.156293                      (Gender_Female, Survived_Yes)\n",
       "19  0.757383                           (Gender_Male, Age_Adult)\n",
       "20  0.619718                         (Survived_No, Gender_Male)\n",
       "21  0.166742                        (Survived_Yes, Gender_Male)\n",
       "22  0.653339                           (Survived_No, Age_Adult)\n",
       "23  0.297138                          (Survived_Yes, Age_Adult)\n",
       "24  0.209905                (Class_3rd, Gender_Male, Age_Adult)\n",
       "25  0.191731              (Survived_No, Gender_Male, Class_3rd)\n",
       "26  0.216265                (Survived_No, Age_Adult, Class_3rd)\n",
       "27  0.391640               (Class_Crew, Gender_Male, Age_Adult)\n",
       "28  0.304407             (Survived_No, Gender_Male, Class_Crew)\n",
       "29  0.305770               (Survived_No, Age_Adult, Class_Crew)\n",
       "30  0.143571           (Gender_Female, Survived_Yes, Age_Adult)\n",
       "31  0.603816              (Survived_No, Gender_Male, Age_Adult)\n",
       "32  0.153567             (Survived_Yes, Age_Adult, Gender_Male)\n",
       "33  0.175829   (Survived_No, Gender_Male, Age_Adult, Class_3rd)\n",
       "34  0.304407  (Survived_No, Gender_Male, Age_Adult, Class_Crew)"
      ]
     },
     "execution_count": 48,
     "metadata": {},
     "output_type": "execute_result"
    }
   ],
   "source": [
    "frequent_itemsets=apriori(df,min_support=0.1,use_colnames=True)\n",
    "frequent_itemsets"
   ]
  },
  {
   "cell_type": "code",
   "execution_count": null,
   "id": "9557b321-f7b3-4937-a485-34463bebf186",
   "metadata": {},
   "outputs": [],
   "source": []
  },
  {
   "cell_type": "code",
   "execution_count": null,
   "id": "d7960f44-4ef9-49cc-8338-173186bffb97",
   "metadata": {},
   "outputs": [],
   "source": []
  },
  {
   "cell_type": "code",
   "execution_count": null,
   "id": "c95a00da-3236-426a-bd72-9a3705d002a0",
   "metadata": {},
   "outputs": [],
   "source": []
  },
  {
   "cell_type": "code",
   "execution_count": null,
   "id": "6916f744-2fe9-431b-b972-c943eda179d9",
   "metadata": {},
   "outputs": [],
   "source": []
  },
  {
   "cell_type": "code",
   "execution_count": null,
   "id": "aa461499-fe76-4149-a85f-c1f8e8d0813b",
   "metadata": {},
   "outputs": [],
   "source": []
  },
  {
   "cell_type": "code",
   "execution_count": null,
   "id": "55ea1bad-78ad-4d0e-9429-1ee489c2b157",
   "metadata": {},
   "outputs": [],
   "source": []
  },
  {
   "cell_type": "code",
   "execution_count": null,
   "id": "ef2dec41-3d9f-4776-be62-fd2f45e373e2",
   "metadata": {},
   "outputs": [],
   "source": []
  },
  {
   "cell_type": "code",
   "execution_count": null,
   "id": "848f8d0a-7f2e-47f6-8f1d-1599304b489a",
   "metadata": {},
   "outputs": [],
   "source": []
  }
 ],
 "metadata": {
  "kernelspec": {
   "display_name": "Python [conda env:base] *",
   "language": "python",
   "name": "conda-base-py"
  },
  "language_info": {
   "codemirror_mode": {
    "name": "ipython",
    "version": 3
   },
   "file_extension": ".py",
   "mimetype": "text/x-python",
   "name": "python",
   "nbconvert_exporter": "python",
   "pygments_lexer": "ipython3",
   "version": "3.12.7"
  }
 },
 "nbformat": 4,
 "nbformat_minor": 5
}
