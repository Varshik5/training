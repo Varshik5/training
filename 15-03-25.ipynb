{
 "cells": [
  {
   "cell_type": "code",
   "execution_count": 73,
   "id": "724e4d1e-1d4b-4a55-8041-08ca136313c8",
   "metadata": {},
   "outputs": [],
   "source": [
    "from pandas import read_csv\n",
    "from sklearn.model_selection import KFold\n",
    "from sklearn.model_selection import cross_val_score\n",
    "from sklearn.ensemble import BaggingClassifier\n",
    "from sklearn.tree import DecisionTreeClassifier\n",
    "from sklearn.linear_model import LogisticRegression\n",
    "from sklearn.svm import SVC\n",
    "from sklearn.ensemble import VotingClassifier\n"
   ]
  },
  {
   "cell_type": "code",
   "execution_count": 75,
   "id": "c8683312-c1bc-4d1b-a808-b298b3fa223e",
   "metadata": {},
   "outputs": [
    {
     "name": "stdout",
     "output_type": "stream",
     "text": [
      "0.7578263841421736\n"
     ]
    }
   ],
   "source": [
    "#load the dataset\n",
    "filename=(r\"C:\\Users\\varsh\\OneDrive\\Desktop\\Git\\class\\pima-indians-diabetes.data.csv\")\n",
    "names=['preg','plas','pres','skin','test','mass','pedi','age','class']\n",
    "dataframe=read_csv(filename,names=names)\n",
    "array=dataframe.values\n",
    "X=array[:,0:8]\n",
    "Y=array[:,8]\n",
    "\n",
    "#set up the parameters\n",
    "seed=7\n",
    "kfold=KFold(n_splits=10,shuffle=True,random_state=seed) #shuffle enabled\n",
    "cart=DecisionTreeClassifier()\n",
    "num_trees=100\n",
    "\n",
    "#Bagging model\n",
    "model=BaggingClassifier(estimator=cart,n_estimators=num_trees,random_state=seed)\n",
    "results=cross_val_score(model,X,Y,cv=kfold)\n",
    "print(results.mean())"
   ]
  },
  {
   "cell_type": "code",
   "execution_count": 76,
   "id": "b0ce61b1-3f0f-4785-ae8d-9f094e273b5a",
   "metadata": {},
   "outputs": [
    {
     "name": "stdout",
     "output_type": "stream",
     "text": [
      "0.6915413533834587\n"
     ]
    }
   ],
   "source": [
    "#load the dataset\n",
    "filename=(r\"C:\\Users\\varsh\\OneDrive\\Desktop\\Git\\class\\pima-indians-diabetes.data.csv\")\n",
    "names=['preg','plas','pres','skin','test','mass','pedi','age','class']\n",
    "dataframe=read_csv(filename,names=names)\n",
    "array=dataframe.values\n",
    "X=array[:,0:8]\n",
    "Y=array[:,8]\n",
    "\n",
    "#set up the parameters\n",
    "num_trees=1\n",
    "seed=7\n",
    "kfold=KFold(n_splits=10,shuffle=True,random_state=seed) #shuffle enabled\n",
    "\n",
    "#Bagging model\n",
    "model=BaggingClassifier(estimator=cart,n_estimators=num_trees,random_state=seed)\n",
    "results=cross_val_score(model,X,Y,cv=kfold)\n",
    "print(results.mean())"
   ]
  },
  {
   "cell_type": "code",
   "execution_count": 79,
   "id": "633edb12-e8d5-4323-a9b0-6b9ce4db6e27",
   "metadata": {},
   "outputs": [
    {
     "name": "stdout",
     "output_type": "stream",
     "text": [
      "0.7462064251537937\n"
     ]
    }
   ],
   "source": [
    "filename=(r\"C:\\Users\\varsh\\OneDrive\\Desktop\\Git\\class\\pima-indians-diabetes.data.csv\")\n",
    "names=['preg','plas','pres','skin','test','mass','pedi','age','class']\n",
    "dataframe=read_csv(filename,names=names)\n",
    "array=dataframe.values\n",
    "X=array[:,0:8]\n",
    "Y=array[:,8]\n",
    "num_trees=10\n",
    "seed=7\n",
    "kfold=KFold(n_splits=10,shuffle=True,random_state=7) #shuffle enabled\n",
    "estimators=[]\n",
    "model1=LogisticRegression(max_iter=500)\n",
    "estimators.append(('Logistic',model1))\n",
    "model2=DecisionTreeClassifier()\n",
    "estimators.append(('cart',model2))\n",
    "model3=SVC()\n",
    "\n",
    "ensemble=VotingClassifier(estimators)\n",
    "results=cross_val_score(ensemble,X,Y,cv=kfold)\n",
    "print(results.mean())"
   ]
  },
  {
   "cell_type": "code",
   "execution_count": null,
   "id": "71d1e68c-2f9b-4cb6-8f42-1b80e1365ede",
   "metadata": {},
   "outputs": [],
   "source": []
  },
  {
   "cell_type": "code",
   "execution_count": null,
   "id": "387bfafc-e5db-42dd-b19a-41d34367f577",
   "metadata": {},
   "outputs": [],
   "source": []
  },
  {
   "cell_type": "code",
   "execution_count": null,
   "id": "07b6d93a-2e37-4537-b00b-e6cd95e0c0eb",
   "metadata": {},
   "outputs": [],
   "source": []
  },
  {
   "cell_type": "code",
   "execution_count": null,
   "id": "2fe9f02a-021f-4f3c-9a4c-95c03393f01a",
   "metadata": {},
   "outputs": [],
   "source": []
  },
  {
   "cell_type": "code",
   "execution_count": null,
   "id": "a348fe1a-b47c-4f0e-b541-07aeb2650ebf",
   "metadata": {},
   "outputs": [],
   "source": []
  },
  {
   "cell_type": "code",
   "execution_count": null,
   "id": "0b30f099-82dd-453b-88dd-1278a35d172b",
   "metadata": {},
   "outputs": [],
   "source": []
  }
 ],
 "metadata": {
  "kernelspec": {
   "display_name": "Python [conda env:base] *",
   "language": "python",
   "name": "conda-base-py"
  },
  "language_info": {
   "codemirror_mode": {
    "name": "ipython",
    "version": 3
   },
   "file_extension": ".py",
   "mimetype": "text/x-python",
   "name": "python",
   "nbconvert_exporter": "python",
   "pygments_lexer": "ipython3",
   "version": "3.12.7"
  }
 },
 "nbformat": 4,
 "nbformat_minor": 5
}
